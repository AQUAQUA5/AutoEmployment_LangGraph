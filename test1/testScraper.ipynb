{
 "cells": [
  {
   "cell_type": "code",
   "execution_count": null,
   "id": "ea9e3efe",
   "metadata": {},
   "outputs": [],
   "source": [
    "from dotenv import load_dotenv\n",
    "load_dotenv()\n",
    "\n",
    "import sys, os\n",
    "sys.path.insert(0, os.path.abspath(\"..\"))\n",
    "from src.scraper import jobkorea_jobs\n",
    "\n",
    "\n",
    "# 기획·전략\n",
    "options = [\n",
    "    ['직무', '디자인', '그래픽디자이너']\n",
    "]\n",
    "result = await jobkorea_jobs.get_searchedJob(options, hide_browser = False, print_procces=True)"
   ]
  },
  {
   "cell_type": "code",
   "execution_count": null,
   "id": "e9e2a288",
   "metadata": {},
   "outputs": [],
   "source": [
    "import asyncio\n",
    "from playwright.async_api import async_playwright, expect\n",
    "import re\n",
    "\n",
    "print_procces = True\n",
    "hide_browser = False\n",
    "\n",
    "SEARCH_URL = \"https://www.jobkorea.co.kr/recruit/joblist?menucode=search\"\n",
    "async with async_playwright() as p:\n",
    "    # 페이지 접속\n",
    "    try:\n",
    "        browser = await p.chromium.launch(headless=hide_browser) # False는 브라우저창 보임\n",
    "        page = await browser.new_page()\n",
    "        page.set_default_timeout(30000)\n",
    "        await page.goto(SEARCH_URL)\n",
    "        await page.pause()\n",
    "        if print_procces:\n",
    "            print('페이지 접속 성공')\n",
    "    except Exception as e:\n",
    "        print('페이지 접속 실패 :', e)"
   ]
  },
  {
   "cell_type": "code",
   "execution_count": null,
   "id": "fc69748c",
   "metadata": {},
   "outputs": [],
   "source": [
    "import asyncio\n",
    "from playwright.async_api import async_playwright, expect\n",
    "import re\n",
    "\n",
    "print_procces = True\n",
    "hide_browser = False\n",
    "\n",
    "SEARCH_URL = \"https://www.jobkorea.co.kr/recruit/joblist?menucode=search\"\n",
    "async with async_playwright() as p:\n",
    "    # 페이지 접속\n",
    "    try:\n",
    "        browser = await p.chromium.launch(headless=hide_browser) # False는 브라우저창 보임\n",
    "        page = await browser.new_page()\n",
    "        page.set_default_timeout(10000)\n",
    "        await page.goto(SEARCH_URL)\n",
    "        if print_procces:\n",
    "            print('페이지 접속 성공')\n",
    "    except Exception as e:\n",
    "        print('페이지 접속 실패 :', e)\n",
    "    try:\n",
    "        # 1) 단일 요소를 직접 지정하고, 존재/가시성 확인\n",
    "        ul = page.locator('ul[data-category=\"duty\"]').first  # 또는 get_by_role(\"list\").locator('[data-category=\"duty\"]').first [1]\n",
    "\n",
    "        # 2) 요소가 실제로 붙을 때까지 대기(자동 대기 외에 명시적 보장)\n",
    "        await ul.wait_for(state=\"visible\")  # 가시 상태 보장 [1]\n",
    "\n",
    "        # 3) 디버깅용 하이라이트 + 인스펙터 일시정지\n",
    "        await ul.highlight()                # 비동기 호출 [1]\n",
    "        await page.pause()                  # 괄호 필수, headed 모드 필요 [4]\n",
    "\n",
    "    except Exception as e:\n",
    "        print(\"오류 발생:\", repr(e))\n"
   ]
  },
  {
   "cell_type": "code",
   "execution_count": null,
   "id": "c22358b5",
   "metadata": {},
   "outputs": [],
   "source": []
  }
 ],
 "metadata": {
  "kernelspec": {
   "display_name": "project3",
   "language": "python",
   "name": "python3"
  },
  "language_info": {
   "codemirror_mode": {
    "name": "ipython",
    "version": 3
   },
   "file_extension": ".py",
   "mimetype": "text/x-python",
   "name": "python",
   "nbconvert_exporter": "python",
   "pygments_lexer": "ipython3",
   "version": "3.11.13"
  }
 },
 "nbformat": 4,
 "nbformat_minor": 5
}
