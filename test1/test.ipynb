{
 "cells": [
  {
   "cell_type": "code",
   "execution_count": null,
   "id": "b7d37af0",
   "metadata": {},
   "outputs": [],
   "source": [
    "from src.core import graph\n",
    "from src.core.state import state_init\n",
    "\n",
    "state = state_init()\n",
    "state['tmp_input'] = '취업 어떻게해야해? 난 4년제 대학 졸업했고, 일해본적은 없어. 전공은 컴공이야. 그리고 배고프니까 저녁메뉴 추천해줘'\n",
    "state['context_current'] = '사용자는 구직과 자소서 작성을 돕는 AI와 대화 중이다.'\n",
    "\n",
    "agent = graph.Graph()\n",
    "state = await agent.run(state)\n",
    "state['con_current'][-1]"
   ]
  },
  {
   "cell_type": "code",
   "execution_count": null,
   "id": "c476af56",
   "metadata": {},
   "outputs": [],
   "source": [
    "final_state['con_current'][-1].content"
   ]
  },
  {
   "cell_type": "code",
   "execution_count": null,
   "id": "056b7692",
   "metadata": {},
   "outputs": [],
   "source": [
    "from IPython.display import Image, display\n",
    "png_data = agent.app.get_graph().draw_png()\n",
    "display(Image(png_data))\n"
   ]
  },
  {
   "cell_type": "code",
   "execution_count": null,
   "id": "6c6fa711",
   "metadata": {},
   "outputs": [],
   "source": []
  },
  {
   "cell_type": "code",
   "execution_count": null,
   "id": "79130697",
   "metadata": {},
   "outputs": [],
   "source": []
  }
 ],
 "metadata": {
  "kernelspec": {
   "display_name": "project3",
   "language": "python",
   "name": "python3"
  },
  "language_info": {
   "codemirror_mode": {
    "name": "ipython",
    "version": 3
   },
   "file_extension": ".py",
   "mimetype": "text/x-python",
   "name": "python",
   "nbconvert_exporter": "python",
   "pygments_lexer": "ipython3",
   "version": "3.11.13"
  }
 },
 "nbformat": 4,
 "nbformat_minor": 5
}
