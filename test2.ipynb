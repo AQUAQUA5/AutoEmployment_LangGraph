{
 "cells": [
  {
   "cell_type": "code",
   "execution_count": null,
   "id": "9171554d",
   "metadata": {},
   "outputs": [],
   "source": [
    "from src.core import graph\n",
    "from src.core.state import state_init\n",
    "agent = graph.Graph()\n",
    "from IPython.display import Image, display\n",
    "png_data = agent.app.get_graph().draw_png()\n",
    "display(Image(png_data))"
   ]
  },
  {
   "cell_type": "code",
   "execution_count": null,
   "id": "a8313e02",
   "metadata": {},
   "outputs": [],
   "source": [
    "state = state_init()\n",
    "state['tmp_input'] = '취업 어떻게해야해? 난 4년제 대학 졸업했고, 일해본적은 없어. 전공은 컴공이야. 그리고 배고프니까 저녁메뉴 추천해줘'\n",
    "state = await agent.run(state)\n",
    "state['con_current'][-1].content"
   ]
  },
  {
   "cell_type": "code",
   "execution_count": null,
   "id": "0eb0dd6d",
   "metadata": {},
   "outputs": [],
   "source": [
    "state['else_result'].content"
   ]
  },
  {
   "cell_type": "code",
   "execution_count": null,
   "id": "03b9e98e",
   "metadata": {},
   "outputs": [],
   "source": [
    "state['tmp_input'] = '경력은 신입이고, 전공은 컴공, 이고 희망하는 직무는 llm을 통한 서비스 개발이야. 근무지역은 서울이었으면 좋겠어'\n",
    "state = await agent.run(state)\n",
    "state['con_current'][-1].content"
   ]
  },
  {
   "cell_type": "code",
   "execution_count": null,
   "id": "73da7123",
   "metadata": {},
   "outputs": [],
   "source": []
  },
  {
   "cell_type": "code",
   "execution_count": null,
   "id": "9a7a48ee",
   "metadata": {},
   "outputs": [
    {
     "name": "stdout",
     "output_type": "stream",
     "text": [
      "education=[<E_education.EDU1: '대학교졸업(4년)'>] major=['컴퓨터공학'] career=[<E_career.EXP1: '신입'>] licenses=[] prefer_condition=[] main_experience=[] pre_salary=[] pre_location=[<E_location.LOC1: '서울'>] pre_industry=[] pre_role=[<E_role.ROL6: 'AI·개발·데이터'>] pre_role_detail=[] pre_company_type=[] pre_employee_type=[] pre_benefits=[] pre_request=[]\n"
     ]
    },
    {
     "data": {
      "text/plain": [
       "{'todo_list': [('구직활동 돕기', '희망하는 직무는 llm을 통한 서비스 개발'),\n",
       "  ('자소서 돕기', '전공은 컴공이고 희망하는 직무는 llm을 통한 서비스 개발'),\n",
       "  ('구직 및 자소서 관련 대화', '근무지역은 서울이었으면 좋겠어')],\n",
       " 'priority_list': [('초기화', '초기화'),\n",
       "  ('구직활동 돕기', '희망하는 직무는 llm을 통한 서비스 개발'),\n",
       "  ('자소서 돕기', '전공은 컴공이고 희망하는 직무는 llm을 통한 서비스 개발'),\n",
       "  ('구직 및 자소서 관련 대화', '근무지역은 서울이었으면 좋겠어')],\n",
       " 'education': ['대학교졸업(4년)'],\n",
       " 'major': ['컴퓨터공학'],\n",
       " 'career': ['신입'],\n",
       " 'pre_location': ['서울'],\n",
       " 'pre_role': ['AI·개발·데이터']}"
      ]
     },
     "execution_count": 9,
     "metadata": {},
     "output_type": "execute_result"
    }
   ],
   "source": [
    "from src.core import nodes\n",
    "state = state_init()\n",
    "state['tmp_input'] = '4년제 대학졸업했고, 경력은 신입이고, 전공은 컴공, 이고 희망하는 직무는 llm을 통한 서비스 개발이야. 긜고 근무지역은 서울이었으면 좋겠어'\n",
    "state = await nodes.initNode(state)\n",
    "state"
   ]
  },
  {
   "cell_type": "code",
   "execution_count": null,
   "id": "14a183d0",
   "metadata": {},
   "outputs": [],
   "source": []
  }
 ],
 "metadata": {
  "kernelspec": {
   "display_name": "project3",
   "language": "python",
   "name": "python3"
  },
  "language_info": {
   "codemirror_mode": {
    "name": "ipython",
    "version": 3
   },
   "file_extension": ".py",
   "mimetype": "text/x-python",
   "name": "python",
   "nbconvert_exporter": "python",
   "pygments_lexer": "ipython3",
   "version": "3.11.13"
  }
 },
 "nbformat": 4,
 "nbformat_minor": 5
}
