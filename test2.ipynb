{
 "cells": [
  {
   "cell_type": "code",
   "execution_count": null,
   "id": "9171554d",
   "metadata": {},
   "outputs": [],
   "source": [
    "from src.core import graph\n",
    "from src.core.state import state_init\n",
    "agent = graph.Graph()\n",
    "from IPython.display import Image, display\n",
    "png_data = agent.app.get_graph().draw_png()\n",
    "display(Image(png_data))"
   ]
  },
  {
   "cell_type": "code",
   "execution_count": null,
   "id": "a8313e02",
   "metadata": {},
   "outputs": [],
   "source": [
    "state = state_init()\n",
    "state['tmp_input'] = '취업 어떻게해야해? 난 4년제 대학 졸업했고, 일해본적은 없어. 전공은 컴공이야. 그리고 배고프니까 저녁메뉴 추천해줘'\n",
    "state = await agent.run(state)\n",
    "state['con_current'][-1].content"
   ]
  },
  {
   "cell_type": "markdown",
   "id": "a382a47a",
   "metadata": {},
   "source": []
  },
  {
   "cell_type": "code",
   "execution_count": null,
   "id": "03b9e98e",
   "metadata": {},
   "outputs": [],
   "source": [
    "state['tmp_input'] = '경력은 신입이고, 전공은 컴공, 이고 희망하는 직무는 llm을 통한 서비스 개발이야. 근무지역은 서울이었으면 좋겠어'\n",
    "state = await agent.run(state)\n",
    "state['con_current'][-1].content"
   ]
  },
  {
   "cell_type": "code",
   "execution_count": null,
   "id": "58d8247a",
   "metadata": {},
   "outputs": [],
   "source": [
    "state['todo_list']"
   ]
  },
  {
   "cell_type": "code",
   "execution_count": 2,
   "id": "8362d756",
   "metadata": {},
   "outputs": [],
   "source": [
    "from langchain_community.vectorstores import Chroma"
   ]
  },
  {
   "cell_type": "code",
   "execution_count": null,
   "id": "f88f7ecc",
   "metadata": {},
   "outputs": [],
   "source": []
  }
 ],
 "metadata": {
  "kernelspec": {
   "display_name": "project3",
   "language": "python",
   "name": "python3"
  },
  "language_info": {
   "codemirror_mode": {
    "name": "ipython",
    "version": 3
   },
   "file_extension": ".py",
   "mimetype": "text/x-python",
   "name": "python",
   "nbconvert_exporter": "python",
   "pygments_lexer": "ipython3",
   "version": "3.11.13"
  }
 },
 "nbformat": 4,
 "nbformat_minor": 5
}
