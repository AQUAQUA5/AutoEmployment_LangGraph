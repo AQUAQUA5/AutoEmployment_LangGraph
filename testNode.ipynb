{
 "cells": [
  {
   "cell_type": "code",
   "execution_count": null,
   "id": "b6723686",
   "metadata": {},
   "outputs": [],
   "source": [
    "from src.core import nodes\n",
    "from src.core.state import state_init\n",
    "state = state_init()\n",
    "state['tmp_input'] = '4년제 대학졸업했고, 경력은 신입이고, 전공은 컴공, 이고 희망하는 직무는 llm을 통한 서비스 개발이야. 긜고 근무지역은 서울이었으면 좋겠어'\n",
    "state = await nodes.initNode(state)\n",
    "state"
   ]
  }
 ],
 "metadata": {
  "language_info": {
   "name": "python"
  }
 },
 "nbformat": 4,
 "nbformat_minor": 5
}
