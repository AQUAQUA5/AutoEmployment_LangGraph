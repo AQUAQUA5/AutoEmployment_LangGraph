{
 "cells": [
  {
   "cell_type": "code",
   "execution_count": 1,
   "id": "ea9e3efe",
   "metadata": {},
   "outputs": [],
   "source": [
    "from src.scraper import jasosu_scraper\n",
    "\n",
    "links = await jasosu_scraper.get_jasosu_context('/starter/PassAssay/View/240497?Page=1&OrderBy=0&FavorCo_Stat=0&schPart=10032&Pass_An_Stat=0')"
   ]
  },
  {
   "cell_type": "code",
   "execution_count": null,
   "id": "d9e0f1d0",
   "metadata": {},
   "outputs": [],
   "source": []
  }
 ],
 "metadata": {
  "kernelspec": {
   "display_name": "project3",
   "language": "python",
   "name": "python3"
  },
  "language_info": {
   "codemirror_mode": {
    "name": "ipython",
    "version": 3
   },
   "file_extension": ".py",
   "mimetype": "text/x-python",
   "name": "python",
   "nbconvert_exporter": "python",
   "pygments_lexer": "ipython3",
   "version": "3.11.13"
  }
 },
 "nbformat": 4,
 "nbformat_minor": 5
}
