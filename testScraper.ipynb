{
 "cells": [
  {
   "cell_type": "code",
   "execution_count": 1,
   "id": "ea9e3efe",
   "metadata": {},
   "outputs": [
    {
     "name": "stdout",
     "output_type": "stream",
     "text": [
      "페이지 접속 성공\n",
      "메인박스 탐색 성공\n",
      "직무 버튼 클릭 성공\n",
      "\n",
      "--- 1번째 요소 ---\n",
      "  [텍스트 내용]: 디자인\n",
      "  [innerHTML]: 디자인...\n",
      "  [outerHTML]: <span>디자인</span>...\n",
      "\n",
      "--- 2번째 요소 ---\n",
      "  [텍스트 내용]: 디자인\n",
      "  [innerHTML]: 디자인...\n",
      "  [outerHTML]: <span>디자인</span>...\n",
      "사용자 직무 선택 성공\n"
     ]
    }
   ],
   "source": [
    "from src.scraper import jobkorea_jobs\n",
    "\n",
    "result = await jobkorea_jobs.get_role_sub_categories('디자인', hide_browser = False)"
   ]
  },
  {
   "cell_type": "code",
   "execution_count": null,
   "id": "e9e2a288",
   "metadata": {},
   "outputs": [],
   "source": []
  },
  {
   "cell_type": "code",
   "execution_count": 13,
   "id": "fc69748c",
   "metadata": {},
   "outputs": [
    {
     "name": "stdout",
     "output_type": "stream",
     "text": [
      "페이지 접속 실패 : Page.goto: Timeout 10000ms exceeded.\n",
      "Call log:\n",
      "  - navigating to \"https://www.jobkorea.co.kr/recruit/joblist?menucode=search\", waiting until \"load\"\n",
      "\n"
     ]
    }
   ],
   "source": [
    "import asyncio\n",
    "from playwright.async_api import async_playwright, expect\n",
    "import re\n",
    "\n",
    "print_procces = True\n",
    "hide_browser = False\n",
    "\n",
    "SEARCH_URL = \"https://www.jobkorea.co.kr/recruit/joblist?menucode=search\"\n",
    "async with async_playwright() as p:\n",
    "    # 페이지 접속\n",
    "    try:\n",
    "        browser = await p.chromium.launch(headless=hide_browser) # False는 브라우저창 보임\n",
    "        page = await browser.new_page()\n",
    "        page.set_default_timeout(10000)\n",
    "        await page.goto(SEARCH_URL)\n",
    "        if print_procces:\n",
    "            print('페이지 접속 성공')\n",
    "    except Exception as e:\n",
    "        print('페이지 접속 실패 :', e)\n",
    "    try:\n",
    "        # 1) 단일 요소를 직접 지정하고, 존재/가시성 확인\n",
    "        ul = page.locator('ul[data-category=\"duty\"]').first  # 또는 get_by_role(\"list\").locator('[data-category=\"duty\"]').first [1]\n",
    "\n",
    "        # 2) 요소가 실제로 붙을 때까지 대기(자동 대기 외에 명시적 보장)\n",
    "        await ul.wait_for(state=\"visible\")  # 가시 상태 보장 [1]\n",
    "\n",
    "        # 3) 디버깅용 하이라이트 + 인스펙터 일시정지\n",
    "        await ul.highlight()                # 비동기 호출 [1]\n",
    "        await page.pause()                  # 괄호 필수, headed 모드 필요 [4]\n",
    "\n",
    "    except Exception as e:\n",
    "        print(\"오류 발생:\", repr(e))\n"
   ]
  },
  {
   "cell_type": "code",
   "execution_count": null,
   "id": "c22358b5",
   "metadata": {},
   "outputs": [],
   "source": []
  }
 ],
 "metadata": {
  "kernelspec": {
   "display_name": "project3",
   "language": "python",
   "name": "python3"
  },
  "language_info": {
   "codemirror_mode": {
    "name": "ipython",
    "version": 3
   },
   "file_extension": ".py",
   "mimetype": "text/x-python",
   "name": "python",
   "nbconvert_exporter": "python",
   "pygments_lexer": "ipython3",
   "version": "3.11.13"
  }
 },
 "nbformat": 4,
 "nbformat_minor": 5
}
