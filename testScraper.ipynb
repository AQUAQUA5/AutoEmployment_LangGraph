{
 "cells": [
  {
   "cell_type": "code",
   "execution_count": null,
   "id": "ea9e3efe",
   "metadata": {},
   "outputs": [
    {
     "name": "stdout",
     "output_type": "stream",
     "text": [
      "페이지 접속 성공\n",
      "메인박스 탐색 성공\n",
      "타겟 탐색 성공\n"
     ]
    }
   ],
   "source": [
    "from src.scraper import jobkorea_jobs\n",
    "\n",
    "await jobkorea_jobs.get_role_sub_categories('직무', hide_browser = True)"
   ]
  },
  {
   "cell_type": "code",
   "execution_count": null,
   "id": "ade91e3b",
   "metadata": {},
   "outputs": [],
   "source": []
  }
 ],
 "metadata": {
  "kernelspec": {
   "display_name": "project3",
   "language": "python",
   "name": "python3"
  },
  "language_info": {
   "codemirror_mode": {
    "name": "ipython",
    "version": 3
   },
   "file_extension": ".py",
   "mimetype": "text/x-python",
   "name": "python",
   "nbconvert_exporter": "python",
   "pygments_lexer": "ipython3",
   "version": "3.11.13"
  }
 },
 "nbformat": 4,
 "nbformat_minor": 5
}
